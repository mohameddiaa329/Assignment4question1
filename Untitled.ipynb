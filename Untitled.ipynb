{
 "cells": [
  {
   "cell_type": "markdown",
   "metadata": {},
   "source": [
    "1.1"
   ]
  },
  {
   "cell_type": "code",
   "execution_count": 1,
   "metadata": {},
   "outputs": [
    {
     "name": "stdout",
     "output_type": "stream",
     "text": [
      "Hello python\tHello python\tHello python\tHello python\tHello python\t\n"
     ]
    }
   ],
   "source": [
    "my_file=open('test.txt','w')\n",
    "for y in range(1,6):\n",
    "    my_file.write(\"Hello python\\t\")\n",
    "my_file=open('test.txt','r')\n",
    "print(my_file.read())"
   ]
  },
  {
   "cell_type": "markdown",
   "metadata": {},
   "source": [
    "1.2"
   ]
  },
  {
   "cell_type": "code",
   "execution_count": 2,
   "metadata": {},
   "outputs": [
    {
     "name": "stdout",
     "output_type": "stream",
     "text": [
      "13\n",
      "HELLO PYTHON\t\n"
     ]
    }
   ],
   "source": [
    "my_file=open('test.txt','w')\n",
    "print(my_file.write(\"HELLO PYTHON\\t\"))\n",
    "my_file=open('test.txt','r')\n",
    "print(my_file.read( ))"
   ]
  },
  {
   "cell_type": "markdown",
   "metadata": {},
   "source": [
    "1.3"
   ]
  },
  {
   "cell_type": "code",
   "execution_count": 3,
   "metadata": {},
   "outputs": [
    {
     "name": "stdout",
     "output_type": "stream",
     "text": [
      "0\n",
      "HELLO PYTHON\t\n"
     ]
    }
   ],
   "source": [
    "\n",
    "my_file=open('test.txt','a+')\n",
    "lines=my_file.read(3)\n",
    "y=lines.upper()\n",
    "my_file=open('test.txt','a')\n",
    "print(my_file.write(y))\n",
    "my_file=open('test.txt','r')\n",
    "print(my_file.read( ))\n"
   ]
  },
  {
   "cell_type": "markdown",
   "metadata": {},
   "source": [
    "1.4"
   ]
  },
  {
   "cell_type": "code",
   "execution_count": 4,
   "metadata": {},
   "outputs": [
    {
     "name": "stdout",
     "output_type": "stream",
     "text": [
      "15\n",
      "\n"
     ]
    }
   ],
   "source": [
    "my_file=open('test.txt','a+')\n",
    "print(my_file.write(\"\\nI love PYTHON\\t\"))\n",
    "print(my_file.read())\n",
    "my_file.close()"
   ]
  }
 ],
 "metadata": {
  "kernelspec": {
   "display_name": "Python 3",
   "language": "python",
   "name": "python3"
  },
  "language_info": {
   "codemirror_mode": {
    "name": "ipython",
    "version": 3
   },
   "file_extension": ".py",
   "mimetype": "text/x-python",
   "name": "python",
   "nbconvert_exporter": "python",
   "pygments_lexer": "ipython3",
   "version": "3.7.6"
  }
 },
 "nbformat": 4,
 "nbformat_minor": 4
}
